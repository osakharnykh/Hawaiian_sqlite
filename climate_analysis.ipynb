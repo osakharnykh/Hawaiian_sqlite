{
 "cells": [
  {
   "cell_type": "code",
   "execution_count": 1,
   "metadata": {
    "collapsed": true
   },
   "outputs": [],
   "source": [
    "import sqlalchemy\n",
    "from sqlalchemy.ext.automap import automap_base\n",
    "from sqlalchemy.orm import Session\n",
    "from sqlalchemy import create_engine, inspect, func\n",
    "\n",
    "import pandas as pd\n",
    "import matplotlib.pyplot as plt"
   ]
  },
  {
   "cell_type": "code",
   "execution_count": 2,
   "metadata": {
    "collapsed": true
   },
   "outputs": [],
   "source": [
    "engine = create_engine(\"sqlite:///hawaii.sqlite\",echo=False)"
   ]
  },
  {
   "cell_type": "code",
   "execution_count": 3,
   "metadata": {},
   "outputs": [
    {
     "data": {
      "text/plain": [
       "['Measurement', 'Station']"
      ]
     },
     "execution_count": 3,
     "metadata": {},
     "output_type": "execute_result"
    }
   ],
   "source": [
    "Base = automap_base()\n",
    "Base.prepare(engine, reflect=True)\n",
    "Base.classes.keys()"
   ]
  },
  {
   "cell_type": "code",
   "execution_count": 4,
   "metadata": {
    "collapsed": true
   },
   "outputs": [],
   "source": [
    "Measurement = Base.classes.Measurement\n",
    "Station = Base.classes.Station\n",
    "session = Session(engine)\n",
    "#for row in session.query(Station).all():\n",
    "#    print(row)"
   ]
  },
  {
   "cell_type": "code",
   "execution_count": 5,
   "metadata": {},
   "outputs": [
    {
     "data": {
      "image/png": "[encoded data removed]",
      "text/plain": [
       "<matplotlib.figure.Figure at 0x1124647f0>"
      ]
     },
     "metadata": {},
     "output_type": "display_data"
    }
   ],
   "source": [
    "#precipitation analysis\n",
    "\n",
    "import datetime as dt\n",
    "\n",
    "start_date=dt.datetime.now()-dt.timedelta(days=365)\n",
    "start_date=start_date.strftime(\"%Y-%m-%d\")\n",
    "\n",
    "\n",
    "prcp_12m=session.query(Measurement.date,Measurement.prcp).\\\n",
    "    filter(Measurement.date > start_date).\\\n",
    "    order_by(Measurement.date).all()\n",
    "#prcp_12m\n",
    "\n",
    "prcp_df=pd.DataFrame(prcp_12m,columns=['date','precipitation'])\n",
    "prcp_df.set_index('date',inplace=True)\n",
    "prcp_df.plot.bar()\n",
    "\n",
    "ticks=[]\n",
    "for i in range(0,6):\n",
    "    ticks.append(prcp_12m[int(len(prcp_df)/6)*i][0])\n",
    "#print(ticks)\n",
    "plt.xticks([])\n",
    "plt.show()"
   ]
  },
  {
   "cell_type": "code",
   "execution_count": 6,
   "metadata": {},
   "outputs": [
    {
     "name": "stdout",
     "output_type": "stream",
     "text": [
      "Number of stations:  9\n",
      "The most active station is USC00519281\n"
     ]
    },
    {
     "data": {
      "image/png": "[encoded data removed]",
      "text/plain": [
       "<matplotlib.figure.Figure at 0x1129b4780>"
      ]
     },
     "metadata": {},
     "output_type": "display_data"
    }
   ],
   "source": [
    "#station analysis\n",
    "\n",
    "stat_num=session.query(Measurement.station).distinct().count()\n",
    "print(\"Number of stations: \",stat_num)\n",
    "\n",
    "most_active=session.query(Measurement.station,func.count(Measurement.station)).\\\n",
    "            group_by(Measurement.station).\\\n",
    "            order_by(Measurement.station).all()\n",
    "most_active.sort(key=lambda x: x[1], reverse=True)\n",
    "\n",
    "print(\"The most active station is\",most_active[0][0])\n",
    "\n",
    "tobs_12m=session.query(Measurement.station,func.count(Measurement.tobs)).\\\n",
    "    filter(Measurement.date > start_date).\\\n",
    "    group_by(Measurement.station).\\\n",
    "    order_by(Measurement.station).all()\n",
    "   \n",
    "    \n",
    "tobs_df=pd.DataFrame(tobs_12m,columns=['station','observations'])\n",
    "tobs_df.set_index('station',inplace=True)\n",
    "tobs_df.plot.hist() #only one station is underperforming\n",
    "\n",
    "plt.show()"
   ]
  },
  {
   "cell_type": "code",
   "execution_count": 13,
   "metadata": {},
   "outputs": [
    {
     "name": "stdout",
     "output_type": "stream",
     "text": [
      "Please input start date as YYYY-MM-DD2017-01-01\n",
      "Please input end date as YYYY-MM-DD2017-01-10\n",
      "Minimum temperature for the daterange was  60\n",
      "Maximum temperature for the daterange was  77\n",
      "Average temperature for the daterange was  68.0\n"
     ]
    }
   ],
   "source": [
    "#temperature analysis\n",
    "\n",
    "def calc_temps(date1, date2):\n",
    "    min_temp=session.query(func.min(Measurement.tobs)).\\\n",
    "                filter(Measurement.date > date1).\\\n",
    "                filter(Measurement.date < date2)\n",
    "    print('Minimum temperature for the daterange was ',min_temp.first()[0])\n",
    "    max_temp=session.query(func.max(Measurement.tobs)).\\\n",
    "                filter(Measurement.date > date1).\\\n",
    "                filter(Measurement.date < date2)\n",
    "    print('Maximum temperature for the daterange was ',max_temp.first()[0])\n",
    "\n",
    "    avg_temp=session.query(func.avg(Measurement.tobs)).\\\n",
    "                filter(Measurement.date > date1).\\\n",
    "                filter(Measurement.date < date2)\n",
    "    print('Average temperature for the daterange was ',round(avg_temp.first()[0],1))\n",
    "    \n",
    "    return min_temp, max_temp, avg_temp\n",
    "\n",
    "date_start=''\n",
    "date_end=''\n",
    "data_ok=True\n",
    "while data_ok:\n",
    "    date_start=input('Please input start date as YYYY-MM-DD')\n",
    "    date_end=input('Please input end date as YYYY-MM-DD')\n",
    "    if (date_start>date_end) :\n",
    "        print ('Your dates are incorrect. Please, input them again')\n",
    "    else:\n",
    "        data_ok=False   \n",
    "\n",
    "min_temp, max_temp, avg_temp=calc_temps(date_start,date_end)\n",
    "    \n",
    "    "
   ]
  },
  {
   "cell_type": "code",
   "execution_count": 21,
   "metadata": {},
   "outputs": [
    {
     "data": {
      "image/png": "[encoded data removed]",
      "text/plain": [
       "<matplotlib.figure.Figure at 0x111968828>"
      ]
     },
     "metadata": {},
     "output_type": "display_data"
    }
   ],
   "source": [
    "import numpy as np\n",
    "\n",
    "fig, ax = plt.subplots()\n",
    "\n",
    "x = range(3)\n",
    "ax.boxplot([min_temp.first()[0],max_temp.first()[0],avg_temp.first()[0]], patch_artist=True)\n",
    "ax.set_title('Temperatures')\n",
    "fig.tight_layout()\n",
    "plt.show()"
   ]
  },
  {
   "cell_type": "code",
   "execution_count": null,
   "metadata": {
    "collapsed": true
   },
   "outputs": [],
   "source": []
  },
  {
   "cell_type": "code",
   "execution_count": 7,
   "metadata": {},
   "outputs": [
    {
     "name": "stdout",
     "output_type": "stream",
     "text": [
      "[('2017-04-16', 74), ('2017-04-16', 69), ('2017-04-16', 74), ('2017-04-16', 71), ('2017-04-16', 71), ('2017-04-17', 74), ('2017-04-17', 69), ('2017-04-17', 71), ('2017-04-17', 67), ('2017-04-17', 69), ('2017-04-18', 75), ('2017-04-18', 70), ('2017-04-18', 76), ('2017-04-18', 75), ('2017-04-18', 76), ('2017-04-18', 68), ('2017-04-18', 71), ('2017-04-19', 74), ('2017-04-19', 70), ('2017-04-19', 83), ('2017-04-19', 74), ('2017-04-19', 67), ('2017-04-19', 71), ('2017-04-20', 78), ('2017-04-20', 75), ('2017-04-20', 74), ('2017-04-20', 76), ('2017-04-20', 76), ('2017-04-20', 69), ('2017-04-21', 73), ('2017-04-21', 70), ('2017-04-21', 70), ('2017-04-21', 70), ('2017-04-21', 69), ('2017-04-21', 70), ('2017-04-22', 76), ('2017-04-22', 74), ('2017-04-22', 74), ('2017-04-22', 72), ('2017-04-22', 73), ('2017-04-23', 77), ('2017-04-23', 75), ('2017-04-23', 76), ('2017-04-23', 70), ('2017-04-24', 77), ('2017-04-24', 76), ('2017-04-24', 68), ('2017-04-24', 75), ('2017-04-25', 77), ('2017-04-25', 75), ('2017-04-25', 77), ('2017-04-25', 76), ('2017-04-25', 72), ('2017-04-25', 74), ('2017-04-26', 77), ('2017-04-26', 78), ('2017-04-26', 78), ('2017-04-26', 81), ('2017-04-26', 74), ('2017-04-26', 77), ('2017-04-27', 78), ('2017-04-27', 73), ('2017-04-27', 78), ('2017-04-27', 76), ('2017-04-27', 70), ('2017-04-27', 76), ('2017-04-28', 76), ('2017-04-28', 70), ('2017-04-28', 77), ('2017-04-28', 76), ('2017-04-28', 67), ('2017-04-28', 71), ('2017-04-29', 72), ('2017-04-29', 66), ('2017-04-29', 71), ('2017-04-29', 70), ('2017-04-29', 72), ('2017-04-29', 68), ('2017-04-30', 63), ('2017-04-30', 61), ('2017-04-30', 63), ('2017-04-30', 64), ('2017-04-30', 60), ('2017-04-30', 58), ('2017-05-01', 75), ('2017-05-01', 68), ('2017-05-01', 78), ('2017-05-01', 73), ('2017-05-01', 65), ('2017-05-01', 73), ('2017-05-02', 78), ('2017-05-02', 73), ('2017-05-02', 76), ('2017-05-02', 78), ('2017-05-02', 75), ('2017-05-02', 79), ('2017-05-03', 78), ('2017-05-03', 74), ('2017-05-03', 78), ('2017-05-03', 78), ('2017-05-03', 70), ('2017-05-04', 78), ('2017-05-04', 77), ('2017-05-04', 77), ('2017-05-04', 77), ('2017-05-04', 75), ('2017-05-05', 79), ('2017-05-05', 78), ('2017-05-05', 78), ('2017-05-05', 79), ('2017-05-05', 70), ('2017-05-05', 74), ('2017-05-06', 79), ('2017-05-06', 75), ('2017-05-06', 78), ('2017-05-06', 80), ('2017-05-06', 79), ('2017-05-06', 74), ('2017-05-07', 79), ('2017-05-07', 75), ('2017-05-07', 78), ('2017-05-07', 75), ('2017-05-07', 70), ('2017-05-08', 77), ('2017-05-08', 71), ('2017-05-08', 73), ('2017-05-08', 80), ('2017-05-08', 70), ('2017-05-08', 66), ('2017-05-09', 74), ('2017-05-09', 79), ('2017-05-09', 75), ('2017-05-09', 67), ('2017-05-09', 72), ('2017-05-10', 78), ('2017-05-10', 75), ('2017-05-10', 76), ('2017-05-10', 76), ('2017-05-10', 74), ('2017-05-10', 72), ('2017-05-11', 78), ('2017-05-11', 74), ('2017-05-11', 78), ('2017-05-11', 70), ('2017-05-11', 78), ('2017-05-12', 79), ('2017-05-12', 74), ('2017-05-12', 77), ('2017-05-12', 75), ('2017-05-12', 70), ('2017-05-13', 79), ('2017-05-13', 75), ('2017-05-13', 76), ('2017-05-13', 76), ('2017-05-13', 71), ('2017-05-14', 77), ('2017-05-14', 75), ('2017-05-14', 78), ('2017-05-14', 77), ('2017-05-14', 70), ('2017-05-15', 78), ('2017-05-15', 75), ('2017-05-15', 77), ('2017-05-15', 74), ('2017-05-15', 72), ('2017-05-16', 78), ('2017-05-16', 75), ('2017-05-16', 77), ('2017-05-16', 76), ('2017-05-16', 74), ('2017-05-16', 71), ('2017-05-17', 78), ('2017-05-17', 75), ('2017-05-17', 78), ('2017-05-17', 77), ('2017-05-17', 74), ('2017-05-17', 71), ('2017-05-18', 73), ('2017-05-18', 70), ('2017-05-18', 78), ('2017-05-18', 71), ('2017-05-18', 69), ('2017-05-18', 69), ('2017-05-19', 76), ('2017-05-19', 70), ('2017-05-19', 79), ('2017-05-19', 68), ('2017-05-20', 78), ('2017-05-20', 72), ('2017-05-20', 79), ('2017-05-20', 76), ('2017-05-21', 76), ('2017-05-21', 72), ('2017-05-21', 80), ('2017-05-21', 74), ('2017-05-21', 69), ('2017-05-22', 77), ('2017-05-22', 76), ('2017-05-22', 76), ('2017-05-22', 71), ('2017-05-22', 72), ('2017-05-23', 87), ('2017-05-23', 73), ('2017-05-23', 78), ('2017-05-23', 76), ('2017-05-23', 71), ('2017-05-23', 69), ('2017-05-24', 77), ('2017-05-24', 75), ('2017-05-24', 76), ('2017-05-24', 76), ('2017-05-24', 74), ('2017-05-24', 70), ('2017-05-25', 77), ('2017-05-25', 69), ('2017-05-25', 79), ('2017-05-25', 75), ('2017-05-25', 74), ('2017-05-25', 75), ('2017-05-26', 73), ('2017-05-26', 79), ('2017-05-26', 77), ('2017-05-26', 74), ('2017-05-26', 72), ('2017-05-27', 74), ('2017-05-27', 69), ('2017-05-27', 79), ('2017-05-27', 79), ('2017-05-27', 74), ('2017-05-27', 72), ('2017-05-28', 76), ('2017-05-28', 71), ('2017-05-28', 77), ('2017-05-28', 82), ('2017-05-28', 80), ('2017-05-28', 73), ('2017-05-29', 75), ('2017-05-29', 71), ('2017-05-29', 79), ('2017-05-29', 80), ('2017-05-29', 74), ('2017-05-30', 76), ('2017-05-30', 74), ('2017-05-30', 81), ('2017-05-30', 78), ('2017-05-30', 72), ('2017-05-31', 79), ('2017-05-31', 76), ('2017-05-31', 81), ('2017-05-31', 79), ('2017-05-31', 75), ('2017-06-01', 79), ('2017-06-01', 76), ('2017-06-01', 81), ('2017-06-01', 79), ('2017-06-01', 80), ('2017-06-01', 74), ('2017-06-02', 79), ('2017-06-02', 76), ('2017-06-02', 78), ('2017-06-02', 81), ('2017-06-02', 76), ('2017-06-03', 79), ('2017-06-03', 76), ('2017-06-03', 80), ('2017-06-03', 79), ('2017-06-03', 76), ('2017-06-04', 79), ('2017-06-04', 78), ('2017-06-04', 79), ('2017-06-04', 81), ('2017-06-04', 77), ('2017-06-04', 77), ('2017-06-05', 80), ('2017-06-05', 76), ('2017-06-05', 81), ('2017-06-05', 78), ('2017-06-05', 75), ('2017-06-05', 74), ('2017-06-06', 79), ('2017-06-06', 75), ('2017-06-06', 80), ('2017-06-06', 78), ('2017-06-06', 75), ('2017-06-06', 74), ('2017-06-07', 79), ('2017-06-07', 75), ('2017-06-07', 81), ('2017-06-07', 78), ('2017-06-07', 75), ('2017-06-07', 79), ('2017-06-08', 80), ('2017-06-08', 76), ('2017-06-08', 79), ('2017-06-08', 77), ('2017-06-08', 75), ('2017-06-08', 75), ('2017-06-09', 80), ('2017-06-09', 78), ('2017-06-09', 81), ('2017-06-09', 78), ('2017-06-09', 72), ('2017-06-10', 77), ('2017-06-10', 75), ('2017-06-10', 78), ('2017-06-10', 75), ('2017-06-10', 74), ('2017-06-11', 79), ('2017-06-11', 73), ('2017-06-11', 79), ('2017-06-11', 81), ('2017-06-11', 74), ('2017-06-11', 76), ('2017-06-12', 83), ('2017-06-12', 76), ('2017-06-12', 79), ('2017-06-12', 80), ('2017-06-12', 74), ('2017-06-12', 74), ('2017-06-13', 80), ('2017-06-13', 76), ('2017-06-13', 75), ('2017-06-13', 77), ('2017-06-13', 76), ('2017-06-13', 73), ('2017-06-14', 80), ('2017-06-14', 76), ('2017-06-14', 79), ('2017-06-14', 80), ('2017-06-14', 74), ('2017-06-14', 74), ('2017-06-15', 78), ('2017-06-15', 77), ('2017-06-15', 78), ('2017-06-15', 78), ('2017-06-15', 75), ('2017-06-15', 77), ('2017-06-16', 79), ('2017-06-16', 76), ('2017-06-16', 80), ('2017-06-16', 80), ('2017-06-16', 73), ('2017-06-16', 74), ('2017-06-17', 80), ('2017-06-17', 77), ('2017-06-17', 78), ('2017-06-17', 77), ('2017-06-17', 79), ('2017-06-17', 72), ('2017-06-18', 77), ('2017-06-18', 72), ('2017-06-18', 77), ('2017-06-18', 78), ('2017-06-18', 75), ('2017-06-18', 77), ('2017-06-19', 80), ('2017-06-19', 77), ('2017-06-19', 78), ('2017-06-19', 78), ('2017-06-19', 72), ('2017-06-19', 76), ('2017-06-20', 78), ('2017-06-20', 75), ('2017-06-20', 79), ('2017-06-20', 72), ('2017-06-20', 74), ('2017-06-21', 79), ('2017-06-21', 82), ('2017-06-21', 74), ('2017-06-21', 75), ('2017-06-22', 80), ('2017-06-22', 77), ('2017-06-22', 81), ('2017-06-22', 80), ('2017-06-22', 72), ('2017-06-22', 76), ('2017-06-23', 78), ('2017-06-23', 76), ('2017-06-23', 76), ('2017-06-23', 79), ('2017-06-23', 72), ('2017-06-23', 71), ('2017-06-24', 80), ('2017-06-24', 74), ('2017-06-24', 82), ('2017-06-24', 77), ('2017-06-24', 73), ('2017-06-25', 80), ('2017-06-25', 73), ('2017-06-25', 80), ('2017-06-25', 71), ('2017-06-25', 79), ('2017-06-26', 81), ('2017-06-26', 77), ('2017-06-26', 81), ('2017-06-26', 73), ('2017-06-26', 79), ('2017-06-27', 80), ('2017-06-27', 77), ('2017-06-27', 80), ('2017-06-27', 81), ('2017-06-27', 76), ('2017-06-27', 74), ('2017-06-28', 79), ('2017-06-28', 77), ('2017-06-28', 80), ('2017-06-28', 79), ('2017-06-28', 77), ('2017-06-28', 74), ('2017-06-29', 79), ('2017-06-29', 76), ('2017-06-29', 79), ('2017-06-29', 78), ('2017-06-29', 76), ('2017-06-29', 76), ('2017-06-30', 75), ('2017-06-30', 74), ('2017-06-30', 81), ('2017-06-30', 74), ('2017-06-30', 75), ('2017-06-30', 76), ('2017-06-30', 75), ('2017-07-01', 80), ('2017-07-01', 76), ('2017-07-01', 79), ('2017-07-01', 74), ('2017-07-02', 80), ('2017-07-02', 77), ('2017-07-02', 81), ('2017-07-02', 78), ('2017-07-03', 78), ('2017-07-03', 77), ('2017-07-03', 81), ('2017-07-03', 76), ('2017-07-03', 77), ('2017-07-04', 80), ('2017-07-04', 77), ('2017-07-04', 78), ('2017-07-04', 77), ('2017-07-05', 80), ('2017-07-05', 77), ('2017-07-05', 77), ('2017-07-05', 75), ('2017-07-06', 81), ('2017-07-06', 76), ('2017-07-06', 79), ('2017-07-06', 74), ('2017-07-06', 74), ('2017-07-07', 79), ('2017-07-07', 77), ('2017-07-07', 79), ('2017-07-07', 75), ('2017-07-07', 74), ('2017-07-08', 80), ('2017-07-08', 76), ('2017-07-08', 81), ('2017-07-08', 77), ('2017-07-08', 78), ('2017-07-08', 71), ('2017-07-09', 80), ('2017-07-09', 76), ('2017-07-09', 82), ('2017-07-09', 82), ('2017-07-09', 78), ('2017-07-09', 78), ('2017-07-10', 80), ('2017-07-10', 79), ('2017-07-10', 80), ('2017-07-10', 82), ('2017-07-10', 69), ('2017-07-10', 77), ('2017-07-11', 78), ('2017-07-11', 76), ('2017-07-11', 79), ('2017-07-11', 79), ('2017-07-11', 72), ('2017-07-11', 74), ('2017-07-12', 81), ('2017-07-12', 78), ('2017-07-12', 81), ('2017-07-12', 82), ('2017-07-12', 74), ('2017-07-12', 72), ('2017-07-13', 79), ('2017-07-13', 76), ('2017-07-13', 81), ('2017-07-13', 79), ('2017-07-13', 74), ('2017-07-13', 77), ('2017-07-14', 81), ('2017-07-14', 80), ('2017-07-14', 80), ('2017-07-14', 80), ('2017-07-14', 76), ('2017-07-14', 76), ('2017-07-15', 80), ('2017-07-15', 79), ('2017-07-15', 82), ('2017-07-15', 82), ('2017-07-15', 80), ('2017-07-15', 78), ('2017-07-16', 78), ('2017-07-16', 76), ('2017-07-16', 79), ('2017-07-16', 82), ('2017-07-16', 80), ('2017-07-16', 75), ('2017-07-17', 80), ('2017-07-17', 75), ('2017-07-17', 82), ('2017-07-17', 82), ('2017-07-17', 76), ('2017-07-17', 72), ('2017-07-18', 80), ('2017-07-18', 78), ('2017-07-18', 82), ('2017-07-18', 78), ('2017-07-18', 83), ('2017-07-18', 76), ('2017-07-18', 77), ('2017-07-19', 78), ('2017-07-19', 80), ('2017-07-19', 81), ('2017-07-19', 80), ('2017-07-19', 76), ('2017-07-19', 74), ('2017-07-20', 80), ('2017-07-20', 78), ('2017-07-20', 79), ('2017-07-20', 80), ('2017-07-20', 80), ('2017-07-20', 77), ('2017-07-20', 75), ('2017-07-21', 80), ('2017-07-21', 78), ('2017-07-21', 79), ('2017-07-21', 81), ('2017-07-21', 80), ('2017-07-21', 77), ('2017-07-21', 72), ('2017-07-22', 81), ('2017-07-22', 78), ('2017-07-22', 80), ('2017-07-22', 78), ('2017-07-22', 77), ('2017-07-22', 72), ('2017-07-23', 81), ('2017-07-23', 75), ('2017-07-23', 82), ('2017-07-23', 82), ('2017-07-23', 78), ('2017-07-24', 78), ('2017-07-24', 78), ('2017-07-24', 79), ('2017-07-24', 75), ('2017-07-24', 77), ('2017-07-25', 80), ('2017-07-25', 78), ('2017-07-25', 80), ('2017-07-25', 81), ('2017-07-25', 80), ('2017-07-25', 77), ('2017-07-25', 79), ('2017-07-26', 82), ('2017-07-26', 78), ('2017-07-26', 79), ('2017-07-26', 84), ('2017-07-26', 75), ('2017-07-26', 73), ('2017-07-27', 79), ('2017-07-27', 77), ('2017-07-27', 80), ('2017-07-27', 80), ('2017-07-27', 76), ('2017-07-27', 75), ('2017-07-28', 81), ('2017-07-28', 77), ('2017-07-28', 81), ('2017-07-28', 80), ('2017-07-28', 81), ('2017-07-28', 81), ('2017-07-28', 73), ('2017-07-29', 81), ('2017-07-29', 78), ('2017-07-29', 82), ('2017-07-29', 83), ('2017-07-29', 82), ('2017-07-29', 77), ('2017-07-30', 81), ('2017-07-30', 78), ('2017-07-30', 84), ('2017-07-30', 81), ('2017-07-30', 79), ('2017-07-31', 80), ('2017-07-31', 77), ('2017-07-31', 82), ('2017-07-31', 76), ('2017-07-31', 74), ('2017-08-01', 77), ('2017-08-01', 74), ('2017-08-01', 75), ('2017-08-02', 73), ('2017-08-02', 80), ('2017-08-02', 83), ('2017-08-02', 80), ('2017-08-03', 79), ('2017-08-03', 81), ('2017-08-03', 80), ('2017-08-03', 76), ('2017-08-04', 80), ('2017-08-04', 81), ('2017-08-04', 82), ('2017-08-04', 77), ('2017-08-05', 81), ('2017-08-05', 82), ('2017-08-06', 80), ('2017-08-06', 82), ('2017-08-06', 83), ('2017-08-06', 83), ('2017-08-07', 80), ('2017-08-07', 81), ('2017-08-07', 83), ('2017-08-07', 78), ('2017-08-08', 80), ('2017-08-08', 78), ('2017-08-08', 82), ('2017-08-08', 74), ('2017-08-09', 80), ('2017-08-09', 81), ('2017-08-09', 71), ('2017-08-10', 81), ('2017-08-10', 81), ('2017-08-10', 80), ('2017-08-10', 75), ('2017-08-11', 78), ('2017-08-11', 81), ('2017-08-11', 81), ('2017-08-12', 80), ('2017-08-12', 83), ('2017-08-12', 74), ('2017-08-13', 81), ('2017-08-13', 84), ('2017-08-13', 77), ('2017-08-14', 79), ('2017-08-14', 81), ('2017-08-14', 75), ('2017-08-14', 77), ('2017-08-14', 79), ('2017-08-15', 78), ('2017-08-15', 82), ('2017-08-15', 79), ('2017-08-15', 77), ('2017-08-15', 70), ('2017-08-16', 82), ('2017-08-16', 79), ('2017-08-16', 76), ('2017-08-16', 71), ('2017-08-17', 78), ('2017-08-17', 83), ('2017-08-17', 76), ('2017-08-17', 72), ('2017-08-18', 80), ('2017-08-18', 77), ('2017-08-18', 79), ('2017-08-19', 79), ('2017-08-19', 80), ('2017-08-19', 71), ('2017-08-20', 81), ('2017-08-20', 80), ('2017-08-21', 81), ('2017-08-21', 79), ('2017-08-21', 76), ('2017-08-22', 82), ('2017-08-22', 82), ('2017-08-22', 76), ('2017-08-23', 81), ('2017-08-23', 82), ('2017-08-23', 82), ('2017-08-23', 76)]\n"
     ]
    }
   ],
   "source": [
    "#experiment!\n",
    "###################\n",
    "start_date=dt.datetime.now()-dt.timedelta(days=365)\n",
    "start_date=start_date.strftime(\"%Y-%m-%d\")\n",
    "\n",
    "tobs_12m=session.query(Measurement.date,Measurement.tobs).\\\n",
    "    filter(Measurement.date > start_date).\\\n",
    "    order_by(Measurement.date).all()\n",
    "\n",
    "print(tobs_12m)"
   ]
  },
  {
   "cell_type": "code",
   "execution_count": null,
   "metadata": {
    "collapsed": true
   },
   "outputs": [],
   "source": []
  }
 ],
 "metadata": {
  "kernelspec": {
   "display_name": "Python 3",
   "language": "python",
   "name": "python3"
  },
  "language_info": {
   "codemirror_mode": {
    "name": "ipython",
    "version": 3
   },
   "file_extension": ".py",
   "mimetype": "text/x-python",
   "name": "python",
   "nbconvert_exporter": "python",
   "pygments_lexer": "ipython3",
   "version": "3.6.3"
  }
 },
 "nbformat": 4,
 "nbformat_minor": 2
}
